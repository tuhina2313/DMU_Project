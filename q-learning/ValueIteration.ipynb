{
 "cells": [
  {
   "cell_type": "code",
   "execution_count": null,
   "id": "26ba5c12",
   "metadata": {},
   "outputs": [],
   "source": [
    "def value_interation(m, discount):\n",
    "    #Takes in a discount and grid world m with defined Ts, Rs\n",
    "    #Outputs V(s) vector \n",
    "    \n",
    "    nactions=len(actions(m))\n",
    "    nstates=len(states(m))\n",
    "    eps=.001\n",
    "    V=[0]*nactions\n",
    "    Vmax=[0]*nstates\n",
    "    oldV=[10000]*nstates\n",
    "    \n",
    "    while max(abs(Vmax-oldV))>eps:\n",
    "\n",
    "        for i in range(nstates):\n",
    "            reward=R[i] #here i is the state index\n",
    "            \n",
    "            for action in range(nactions):\n",
    "                tsum=0\n",
    "\n",
    "                for j in range(nstates):\n",
    "                    tsum=tsum+T[i,action,j]*Vmax[j]\n",
    "                    \n",
    "                V[action]=reward+discount*tsum \n",
    "                \n",
    "            Vmax[i]=max(V)\n",
    "            \n",
    "        oldV=Vmax\n",
    "    return Vmax\n",
    "    \n",
    "#Questions: \n",
    "    #Do we have actions(m) and states(m)? Are these lists? \n",
    "    \n",
    "#Homework Solution-- don't fully understand but we can use if we alter\n",
    "    #while max(abs(V-oldV)) > 0.0:\n",
    "     #   oldV = V\n",
    "      #  V = max(Rs[a] + discount*Ts[a]*V for a in keys(Rs))\n",
    "   # return V \n",
    "    \n"
   ]
  }
 ],
 "metadata": {
  "kernelspec": {
   "display_name": "Python 3 (ipykernel)",
   "language": "python",
   "name": "python3"
  },
  "language_info": {
   "codemirror_mode": {
    "name": "ipython",
    "version": 3
   },
   "file_extension": ".py",
   "mimetype": "text/x-python",
   "name": "python",
   "nbconvert_exporter": "python",
   "pygments_lexer": "ipython3",
   "version": "3.9.7"
  }
 },
 "nbformat": 4,
 "nbformat_minor": 5
}
