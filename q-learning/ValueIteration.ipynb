{
 "cells": [
  {
   "cell_type": "code",
   "execution_count": null,
   "id": "d71b85ab",
   "metadata": {},
   "outputs": [],
   "source": [
    "def value_interation(m, discount):\n",
    "    #Takes in a discount and grid world m with defined Ts, Rs\n",
    "    #Outputs V\n",
    "    Ts = transition_matrices(m)\n",
    "    Rs = reward_vectors(m)\n",
    "    \n",
    "    while max(abs(V-oldV)) > 0.0:\n",
    "        oldV = V\n",
    "        V = max(Rs[a] + discount*Ts[a]*V for a in keys(Rs))\n",
    "    return V \n",
    "        "
   ]
  }
 ],
 "metadata": {
  "kernelspec": {
   "display_name": "Python 3 (ipykernel)",
   "language": "python",
   "name": "python3"
  },
  "language_info": {
   "codemirror_mode": {
    "name": "ipython",
    "version": 3
   },
   "file_extension": ".py",
   "mimetype": "text/x-python",
   "name": "python",
   "nbconvert_exporter": "python",
   "pygments_lexer": "ipython3",
   "version": "3.9.7"
  }
 },
 "nbformat": 4,
 "nbformat_minor": 5
}
